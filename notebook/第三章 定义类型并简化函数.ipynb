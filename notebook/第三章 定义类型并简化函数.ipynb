{
 "cells": [
  {
   "cell_type": "markdown",
   "metadata": {},
   "source": [
    "# 定义新的数据类型\n",
    "- 使用`data`关键字可以定义新的数据类型:"
   ]
  },
  {
   "cell_type": "code",
   "execution_count": 1,
   "metadata": {},
   "outputs": [],
   "source": [
    "data BookInfo = Book Int String [String]\n",
    "                deriving (Show)"
   ]
  },
  {
   "cell_type": "markdown",
   "metadata": {},
   "source": [
    "- BookInfo 就是新类型的名字，我们称为类型构造器。类型构造器用于指代(refer)类型。\n",
    "- Book则是值构造器（也称数据构造器）的名字。\n",
    "- 类型构造器和值构造器的首字母都需要大写\n",
    "- 在Book之后的Int,String和[String]是类型的组成部分。组成部分的作用，和面向对象语言中类的域作用一致：它是一个存储值的槽。（通常也将组成部分称为域。）\n",
    "- 类型包含的成分结构相同但是不可用混用，比如我们定义一个`MagzineInfo`类型的成分和BookInfo一模一样，但是Haskell会将它们作为不同的类型来区别对待，因为他们的类型构造器和值构造器并不相同:\n",
    "- 在ghci中我们可以使用:info查看更多关于给定表达式的信息，使用:type命令，可以查看值构造器的类型签名，了解他们是如果创造出类型的。"
   ]
  },
  {
   "cell_type": "markdown",
   "metadata": {},
   "source": [
    "## 类型构造器和值构造器的命名"
   ]
  },
  {
   "cell_type": "markdown",
   "metadata": {},
   "source": [
    "- 在Haskell里，类型的名字(类型构造器)和值构造器的名字是相互独立的。\n",
    "- 类型构造器只能出现在类型的定义，或者类型签名当中。而值构造器只能出现在具体的代码中。\n",
    "- 所以给类型构造器和值构造器赋予相同名字是没问题的，但是应当注意两者是不同的概念。而大部分oop语言是混杂到一起的。"
   ]
  },
  {
   "cell_type": "markdown",
   "metadata": {},
   "source": [
    "## 类型别名"
   ]
  },
  {
   "cell_type": "markdown",
   "metadata": {},
   "source": [
    "- 可以使用类型别名，来为一个已存在的类型设置一个更具描述性的名字\n",
    "- 比如:"
   ]
  },
  {
   "cell_type": "code",
   "execution_count": 2,
   "metadata": {},
   "outputs": [],
   "source": [
    "type CustomerID =  Int\n",
    "type ReviewBody = String\n",
    "\n",
    "data BookReview = BookReview BookInfo CustomerID ReviewBody"
   ]
  },
  {
   "cell_type": "markdown",
   "metadata": {},
   "source": [
    "- 与oop里面使用变量名来赋予某个字段具体的含义相比，这样无疑是更加优越的，比如人名和书名都是String,可是确实应当有能力使两者不混为一谈\n",
    "- 还可以为复杂的类型设置一个简短的名字:"
   ]
  },
  {
   "cell_type": "code",
   "execution_count": 3,
   "metadata": {},
   "outputs": [],
   "source": [
    "type BookRecord = (BookInfo,BookReview)"
   ]
  },
  {
   "cell_type": "markdown",
   "metadata": {},
   "source": [
    "- 类型别名只是为已有类型提供一个新名字而已，创建值的工作仍然由原来的类型的值构造器进行。(可以类比C/C++中的typedef)"
   ]
  },
  {
   "cell_type": "markdown",
   "metadata": {},
   "source": [
    "# 代数数据类型\n",
    "- Bool类型是代数数据类型(algebraic data type)的最简单，最常见的例子，一个代数数据类型可以有多于一个值构造器:"
   ]
  },
  {
   "cell_type": "code",
   "execution_count": 4,
   "metadata": {},
   "outputs": [],
   "source": [
    "data Bool = False | True"
   ]
  },
  {
   "cell_type": "markdown",
   "metadata": {},
   "source": [
    "上面代码定义的 Bool 类型拥有两个值构造器，一个是 True ，另一个是 False 。每个值构造器使用 | 符号分割，读作“或者” —— 以 Bool 类型为例子，我们可以说， Bool 类型由 True 值或者 False 值构成。\n",
    "\n",
    "当一个类型拥有一个以上的值构造器时，这些值构造器通常被称为“备选”（alternatives）或“分支”（case）。同一类型的所有备选，创建出的的值的类型都是相同的。\n",
    "\n",
    "代数数据类型的各个值构造器都可以接受任意个数的参数。[译注：不同备选之间接受的参数个数不必相同，参数的类型也可以不一样。]以下是一个账单数据的例子："
   ]
  },
  {
   "cell_type": "code",
   "execution_count": 5,
   "metadata": {},
   "outputs": [],
   "source": [
    "type CardHolder = String\n",
    "type CardNumber = String\n",
    "type Address = [String]\n",
    "data BillingInfo = CreditCard CardNumber CardHolder Address\n",
    "                 | CashOnDelivery\n",
    "                 | Invoice CustomerID\n",
    "                   deriving (Show)"
   ]
  },
  {
   "cell_type": "markdown",
   "metadata": {},
   "source": [
    "这个程序提供了三种付款的方式。如果使用信用卡付款，就要使用 CreditCard 作为值构造器，并输入信用卡卡号、信用卡持有人和地址作为参数。如果即时支付现金，就不用接受任何参数。最后，可以通过货到付款的方式来收款，在这种情况下，只需要填写客户的 ID 就可以了。\n",
    "\n",
    "当使用值构造器来创建 BillingInfo 类型的值时，必须提供这个值构造器所需的参数：\n",
    "\n",
    "```\n",
    "Prelude> :load BookStore.hs\n",
    "[1 of 1] Compiling Main             ( BookStore.hs, interpreted )\n",
    "Ok, modules loaded: Main.\n",
    "\n",
    "*Main> :type CreditCard\n",
    "CreditCard :: CardNumber -> CardHolder -> Address -> BillingInfo\n",
    "\n",
    "*Main> CreditCard \"2901650221064486\" \"Thomas Gradgrind\" [\"Dickens\", \"England\"]\n",
    "CreditCard \"2901650221064486\" \"Thomas Gradgrind\" [\"Dickens\",\"England\"]\n",
    "\n",
    "*Main> :type it\n",
    "it :: BillingInfo\n",
    "```\n",
    "如果输入参数的类型不对或者数量不对，那么引发一个错误：\n",
    "\n",
    "```\n",
    "*Main> Invoice\n",
    "\n",
    "<interactive>:7:1:\n",
    "    No instance for (Show (CustomerID -> BillingInfo))\n",
    "        arising from a use of `print'\n",
    "    Possible fix:\n",
    "        add an instance declaration for (Show (CustomerID -> BillingInfo))\n",
    "    In a stmt of an interactive GHCi command: print it\n",
    "\n",
    "```\n",
    "ghci 抱怨我们没有给 Invoice 值构造器足够的参数。"
   ]
  },
  {
   "cell_type": "markdown",
   "metadata": {},
   "source": [
    "## 元组和代数数据类型的使用场景\n",
    "元组和自定义代数数据类型有一些相似的地方。比如说，可以使用一个 (Int, String, [String]) 类型的元组来代替 BookInfo 类型：\n",
    "```\n",
    "*Main> Book 2 \"The Wealth of Networks\" [\"Yochai Benkler\"]\n",
    "Book 2 \"The Wealth of Networks\" [\"Yochai Benkler\"]\n",
    "\n",
    "*Main> (2, \"The Wealth of Networks\", [\"Yochai Benkler\"])\n",
    "(2,\"The Wealth of Networks\",[\"Yochai Benkler\"])\n",
    "```\n",
    "\n",
    "代数数据类型使得我们可以在结构相同但类型不同的数据之间进行区分。然而对于元组来说，要元素的结构和类型都一致，那么元组的类型就是相同的,而对于两个不同的代数数据类型来说，即时值构造器成分的结构和类型都相同，它们也是不同的类型。"
   ]
  },
  {
   "cell_type": "markdown",
   "metadata": {},
   "source": [
    "## 其他语言里类似代数数据类型的东西\n",
    "- 代数数据类型为描述数据类型提供了一种单一且强大的方式。很多其他语言，要达到相当于代数数据类型的表达能力，需要同时使用多种特性。\n",
    "- 以下用C/C++举例"
   ]
  },
  {
   "cell_type": "markdown",
   "metadata": {},
   "source": [
    "### 结构\n",
    "- 当只有一个值构造器时，代数数据类型和元组很相似：它将一系列相关的值打包成一个复合值。这种做法相当于 C 和 C++ 里的 struct ，而代数数据类型的成分则相当于 struct 里的域。\n",
    "\n",
    "- 以下是一个 C 结构，它等同于我们前面定义的 BookInfo 类型：\n",
    "```\n",
    "struct book_info {\n",
    "    int id;\n",
    "    char *name;\n",
    "    char **authors;\n",
    "};\n",
    "```\n",
    "- 目前来说， C 结构和 Haskell 的代数数据类型最大的差别是，代数数据类型的成分是匿名且按位置排序的：\n",
    "\n",
    "```\n",
    "data BookInfo = Book Int String [String]\n",
    "                deriving (Show)\n",
    "```\n",
    "- 按位置排序指的是，对成分的访问是通过位置来实行的，而不是像 C 那样，通过名字：比如 book_info->id 。\n",
    "\n",
    "- 稍后的“模式匹配”小节会介绍如何访代数数据类型里的成分。在“记录”一节会介绍定义数据的新语法，通过这种语法，可以像 C 结构那样，使用名字来访问相应的成分。"
   ]
  },
  {
   "cell_type": "markdown",
   "metadata": {},
   "source": [
    "### 枚举\n",
    "C 和 C++ 里的 enum 通常用于表示一系列符号值排列。代数数据类型里面也有相似的东西，一般称之为枚举类型。\n",
    "\n",
    "以下是一个 enum 例子：\n",
    "```\n",
    "enum roygbiv {\n",
    "    red,\n",
    "    orange,\n",
    "    yellow,\n",
    "    green,\n",
    "    blue,\n",
    "    indigo,\n",
    "    violet,\n",
    "};\n",
    "```\n",
    "以下是等价的 Haskell 代码：\n",
    "\n",
    "```\n",
    "data Roygbiv = Red\n",
    "             | Orange\n",
    "             | Yellow\n",
    "             | Green\n",
    "             | Blue\n",
    "             | Indigo\n",
    "             | Violet\n",
    "```\n",
    "enum 的问题是，它使用整数值去代表元素：在一些接受 enum 的场景里，可以将整数传进去，C 编译器会自动进行类型转换。同样，在使用整数的场景里，也可以将一个 enum 元素传进去。这种用法可能会造成一些令人不爽的 bug 。\n",
    "\n",
    "另一方面，在 Haskell 里就没有这样的问题。比如说，不可能使用 Roygbiv 里的某个值来代替 Int 值[译注：因为枚举类型的每个元素都由一个唯一的值构造器生成，而不是使用整数表示。]："
   ]
  },
  {
   "cell_type": "markdown",
   "metadata": {},
   "source": [
    "### 联合\n",
    "如果一个代数数据类型有多个备选，那么可以将它看作是 C 或 C++ 里的 union 。\n",
    "\n",
    "以上两者的一个主要区别是， union 并不告诉用户，当前使用的是哪一个备选， union 的使用者必须自己记录这方面的信息（通常使用一个额外的域来保存），这意味着，如果搞错了备选的信息，那么对 union 的使用就会出错。\n",
    "\n",
    "以下是一个 union 例子：\n",
    "```\n",
    "enum shape_type {\n",
    "    shape_circle,\n",
    "    shape_poly,\n",
    "};\n",
    "\n",
    "struct circle {\n",
    "    struct vector centre;\n",
    "    float radius;\n",
    "};\n",
    "\n",
    "struct poly {\n",
    "    size_t num_vertices;\n",
    "    struct vector *vertices;\n",
    "};\n",
    "\n",
    "struct shape\n",
    "{\n",
    "    enum shape_type type;\n",
    "    union {\n",
    "    struct circle circle;\n",
    "    struct poly poly;\n",
    "    } shape;\n",
    "};\n",
    "```\n",
    "在上面的代码里， shape 域的值可以是一个 circle 结构，也可以是一个 poly 结构。 shape_type 用于记录目前 shape 正在使用的结构类型。\n",
    "\n",
    "另一方面，Haskell 版本不仅简单，而且更为安全：\n",
    "\n",
    "```\n",
    "type Vector = (Double, Double)\n",
    "\n",
    "data Shape = Circle Vector Double\n",
    "           | Poly [Vector]\n",
    "```\n",
    "\n",
    "注意，我们不必像 C 语言那样，使用 shape_type 域来手动记录 Shape 类型的值是由 Circle 构造器生成的，还是由 Poly 构造器生成， Haskell 自己有办法弄清楚一点，它不会弄混两种不同的值。其中的原因，下一节《模式匹配》就会讲到。\n",
    "\n",
    "[译注：原文这里将 Poly 写成了 Square 。]\n",
    "- 个人认为，要从发展的角度来看，C/C++本就是从底层一路抽象上来，C里面的struct是要直接关联内存分配大小的，这意味着C注定无法在语义的表达上与Haskell角力，但是Haskell最终也是要编译到二进制代码在冯诺依曼的体系上执行的，只是编译器帮我们屏蔽了底层的内存分配要考虑的问题。所以，我当然想用Haskell去描述我的逻辑，但也不意味着无脑鼓吹，捧一贬一。"
   ]
  },
  {
   "cell_type": "markdown",
   "metadata": {},
   "source": [
    "# 模式匹配\n",
    "- 上面介绍了定义代数数据类型的方法。接下来说明怎样去处理这些类型的值\n",
    "- 对于某个类型的值来说，应该可以做到以下两点:\n",
    "    1. 如果这个类型有一个以上的值构造器，那么应该可以知道，这个值是由哪个构造器创建的。\n",
    "    2. 如果一个值构造器包含不同的成分，那么应该有办法提取这些成分。\n",
    "- 对于以上两个问题，Haskell有一个简单且有效的解决方式，那就是类型匹配。\n",
    "- 模式匹配允许我们查看值的内部，并将值所包含的数据绑定到变量上。以下是一个对 Bool 类型值进行模式匹配的例子，它的作用和 not 函数一样：\n",
    "\n"
   ]
  },
  {
   "cell_type": "code",
   "execution_count": 6,
   "metadata": {},
   "outputs": [],
   "source": [
    "myNot True = False\n",
    "myNot False = True"
   ]
  },
  {
   "cell_type": "markdown",
   "metadata": {},
   "source": [
    "- 对于名字相同的函数,Haskell允许定义函数在不同输入参数模式下的不同行为,当调用函数式，Haskell会去匹配同名不同模式的函数，如果匹配成功则调用执行。\n",
    "- 对于每行等式，模式定义放在函数名之后， = 符号之前。\n",
    "- 一个更复杂的例子，以下函数是计算出列表所有元素之和:"
   ]
  },
  {
   "cell_type": "code",
   "execution_count": 7,
   "metadata": {},
   "outputs": [
    {
     "data": {
      "text/html": [
       "<style>/* Styles used for the Hoogle display in the pager */\n",
       ".hoogle-doc {\n",
       "display: block;\n",
       "padding-bottom: 1.3em;\n",
       "padding-left: 0.4em;\n",
       "}\n",
       ".hoogle-code {\n",
       "display: block;\n",
       "font-family: monospace;\n",
       "white-space: pre;\n",
       "}\n",
       ".hoogle-text {\n",
       "display: block;\n",
       "}\n",
       ".hoogle-name {\n",
       "color: green;\n",
       "font-weight: bold;\n",
       "}\n",
       ".hoogle-head {\n",
       "font-weight: bold;\n",
       "}\n",
       ".hoogle-sub {\n",
       "display: block;\n",
       "margin-left: 0.4em;\n",
       "}\n",
       ".hoogle-package {\n",
       "font-weight: bold;\n",
       "font-style: italic;\n",
       "}\n",
       ".hoogle-module {\n",
       "font-weight: bold;\n",
       "}\n",
       ".hoogle-class {\n",
       "font-weight: bold;\n",
       "}\n",
       ".get-type {\n",
       "color: green;\n",
       "font-weight: bold;\n",
       "font-family: monospace;\n",
       "display: block;\n",
       "white-space: pre-wrap;\n",
       "}\n",
       ".show-type {\n",
       "color: green;\n",
       "font-weight: bold;\n",
       "font-family: monospace;\n",
       "margin-left: 1em;\n",
       "}\n",
       ".mono {\n",
       "font-family: monospace;\n",
       "display: block;\n",
       "}\n",
       ".err-msg {\n",
       "color: red;\n",
       "font-style: italic;\n",
       "font-family: monospace;\n",
       "white-space: pre;\n",
       "display: block;\n",
       "}\n",
       "#unshowable {\n",
       "color: red;\n",
       "font-weight: bold;\n",
       "}\n",
       ".err-msg.in.collapse {\n",
       "padding-top: 0.7em;\n",
       "}\n",
       ".highlight-code {\n",
       "white-space: pre;\n",
       "font-family: monospace;\n",
       "}\n",
       ".suggestion-warning { \n",
       "font-weight: bold;\n",
       "color: rgb(200, 130, 0);\n",
       "}\n",
       ".suggestion-error { \n",
       "font-weight: bold;\n",
       "color: red;\n",
       "}\n",
       ".suggestion-name {\n",
       "font-weight: bold;\n",
       "}\n",
       "</style><div class=\"suggestion-name\" style=\"clear:both;\">Use foldr</div><div class=\"suggestion-row\" style=\"float: left;\"><div class=\"suggestion-warning\">Found:</div><div class=\"highlight-code\" id=\"haskell\">sumList (x : xs) = x + sumList xs\n",
       "sumList [] = 0</div></div><div class=\"suggestion-row\" style=\"float: left;\"><div class=\"suggestion-warning\">Why Not:</div><div class=\"highlight-code\" id=\"haskell\">sumList xs = foldr (+) 0 xs</div></div>"
      ],
      "text/plain": [
       "Line 1: Use foldr\n",
       "Found:\n",
       "sumList (x : xs) = x + sumList xs\n",
       "sumList [] = 0\n",
       "Why not:\n",
       "sumList xs = foldr (+) 0 xs"
      ]
     },
     "metadata": {},
     "output_type": "display_data"
    }
   ],
   "source": [
    "sumList (x:xs) = x+sumList xs\n",
    "sumList [] = 0"
   ]
  },
  {
   "cell_type": "markdown",
   "metadata": {},
   "source": [
    "- 需要说明的是，在Haskell里，列表[1,2],其实只是(1:(2:[]))的一种简单的表示方式，其中`:`用于构造列表:\n",
    "```\n",
    "Prelude> []\n",
    "[]\n",
    "\n",
    "Prelude> 1:[]\n",
    "[1]\n",
    "\n",
    "Prelude> 1:2:[]\n",
    "[1,2]\n",
    "```\n",
    "- 因此，当需要对一个列表进行匹配时，也可以使用`:`操作符，只不过这次不是用来构造列表，而是用来分解列表。\n",
    "- 继续考虑sumList,如果用sumLis去求值[1,2]，首先[1,2]会匹配到(x:xs)，于是x被绑定1,xs被绑定[2],此时表达式就变成了1+(sumList([2]))，后续的情况就类似。"
   ]
  },
  {
   "cell_type": "code",
   "execution_count": null,
   "metadata": {},
   "outputs": [],
   "source": [
    "sumList [1,2]\n",
    "sum [1,2]"
   ]
  },
  {
   "cell_type": "markdown",
   "metadata": {},
   "source": [
    "## 组成和解构\n",
    "- 让我们梳理一下构造一个值和对值进行模式匹配之间的关系\n",
    "    - 描述一个构造值的过程: 表达式 `Book 9 \"Close Calls\" [\"John Long\"]` 应用 `Book Int String [String]` 构造器到值 9 、 \"Close Calls\" 和 [\"John Long\"] 上面，从而产生一个新的 BookInfo 类型的值。\n",
    "    - 而当我们对Book构造器进行模式匹配时，我们在逆转(reverse)它的构造过程: 首先，检查这个值是否由 Book 构造器生成 —— 如果是的话，那么就对这个值进行探查（inspect），并取出创建这个值时，提供给构造器的各个值。\n",
    "    \n",
    "- 考虑一下表达式 Book 9 \"Close Calls\" [\"John Long\"] 对模式 (Book id name authors) 的匹配是如何进行的：\n",
    "\n",
    "    - 因为值的构造器和模式里的构造器相同，因此匹配成功。\n",
    "    - 变量 id 被绑定为 9 。\n",
    "    - 变量 name 被绑定为 Close Calls 。\n",
    "    - 变量 authors 被绑定为 [\"John Long\"] 。\n",
    "- 因为模式匹配的过程像是逆转一个值的构造(construction)过程，因此它有时候也被称为结构(deconstruction)"
   ]
  },
  {
   "cell_type": "markdown",
   "metadata": {},
   "source": [
    "## 更进一步\n",
    "- 对元组进行模式匹配的语法，和构造元组的语法很相似。\n",
    "- 以下是一个可以返回三元组中最后一个元素的函数:"
   ]
  },
  {
   "cell_type": "code",
   "execution_count": null,
   "metadata": {},
   "outputs": [],
   "source": [
    "third (a,b,c) = c\n",
    "third (1,2,3)"
   ]
  },
  {
   "cell_type": "markdown",
   "metadata": {},
   "source": [
    "- 模式匹配的“深度”并没有限制，以下模式会同时对元组和元组里的列表进行匹配,匹配失败则会报错"
   ]
  },
  {
   "cell_type": "code",
   "execution_count": null,
   "metadata": {},
   "outputs": [],
   "source": [
    "complicated (True, a, x:xs,5) = (a,xs)\n",
    "complicated (True, 1, [1,2,3], 5)\n",
    "complicated (False, 1, [1,2,3], 5)"
   ]
  },
  {
   "cell_type": "markdown",
   "metadata": {},
   "source": [
    "- 对代数数据类型的匹配，可以通过这个类型的值构造器来进行。用前面定义的BookInfo类型为例，对它可以使用它的Book构造器来进行:"
   ]
  },
  {
   "cell_type": "code",
   "execution_count": null,
   "metadata": {},
   "outputs": [],
   "source": [
    "bookID      (Book id title authors) = id\n",
    "bookTitle   (Book id title authors) = title\n",
    "bookAuthors (Book id title authors) = authors\n",
    "\n",
    "\n",
    "book = Book 3 \"Probability Theory\" [\"E.T.H Jaynes\"]\n",
    "bookID book\n",
    "bookTitle book\n",
    "bookAuthors book\n",
    "\n",
    "-- 字面值的对比规则对于列表和值构造器的匹配也适用，比如这里只匹配id=3的\n",
    "bookIdEq3    (Book 3 title authors) = title\n",
    "bookIdEq3 book    "
   ]
  },
  {
   "cell_type": "markdown",
   "metadata": {},
   "source": [
    "## 模式匹配中的变量名命名\n",
    "当你阅读那些进行模式匹配的函数时，经常会发现像是 (x:xs) 或是 (d:ds) 这种类型的名字。这是一个流行的命名规则，其中的 s 表示“元素的复数”。以 (x:xs) 来说，它用 x 来表示列表的第一个元素，剩余的列表元素则用 xs 表示。\n",
    "\n"
   ]
  },
  {
   "cell_type": "markdown",
   "metadata": {},
   "source": [
    "## 通配符模式匹配\n",
    "- 如果在匹配模式中我们不在乎某个值的类型，那么可以用下划线字符 “_” 作为符号来进行标识，它也叫做通配符。它的用法如下："
   ]
  },
  {
   "cell_type": "code",
   "execution_count": null,
   "metadata": {},
   "outputs": [],
   "source": [
    "nicerID      (Book id _     _      ) = id\n",
    "nicerTitle   (Book _  title _      ) = title\n",
    "nicerAuthors (Book _  _     authors) = authors"
   ]
  },
  {
   "cell_type": "markdown",
   "metadata": {},
   "source": [
    "- 显然我们使用变量也是可以达到同样的匹配效果，但是使用通配符去匹配我们不会使用的值会使得可读性更高，所以当我们匹配列表中定义了变量但是函数体中却没有使用，Haskell编译器会给出一个警告，这往往意味着潜在的bug"
   ]
  },
  {
   "cell_type": "markdown",
   "metadata": {},
   "source": [
    "## 穷举匹配模式和通配符\n",
    "- 在给一个类型写一组匹配模式时，很重要的一点就是一定要涵盖构造器的所有可能情况。例如，如果我们需要探查一个列表，就应该写一个匹配非空构造器 (:) 的方程和一个匹配空构造器 [] 的方程。\n",
    "\n",
    "- 假如我们没有涵盖所有情况会发生什么呢。下面，我们故意漏写对 [] 构造器的检查。"
   ]
  },
  {
   "cell_type": "code",
   "execution_count": null,
   "metadata": {},
   "outputs": [],
   "source": [
    "badExample (x:xs) = x + badExample xs\n",
    "badExample []"
   ]
  },
  {
   "cell_type": "markdown",
   "metadata": {},
   "source": [
    "- 如果我们将其作用于一个不能匹配的值，运行时就会报错:"
   ]
  },
  {
   "cell_type": "markdown",
   "metadata": {},
   "source": [
    "- 但如果某些情况，我们并不在乎某些特定的构造器，我们就可以用通配符匹配模式来定义一个默认行为:"
   ]
  },
  {
   "cell_type": "code",
   "execution_count": null,
   "metadata": {},
   "outputs": [],
   "source": [
    "goodExample (x:xs) = x+goodExample xs\n",
    "goodExample _ = 0\n",
    "\n",
    "goodExample []\n",
    "goodExample [1,2]"
   ]
  },
  {
   "cell_type": "markdown",
   "metadata": {},
   "source": [
    "# 记录语法\n",
    "- 给一个数据类型的每个成分写访问器函数是令人感觉重复且反味的事情:"
   ]
  },
  {
   "cell_type": "code",
   "execution_count": null,
   "metadata": {},
   "outputs": [],
   "source": [
    "nicerID      (Book id _     _      ) = id\n",
    "nicerTitle   (Book _  title _      ) = title\n",
    "nicerAuthors (Book _  _     authors) = authors"
   ]
  },
  {
   "cell_type": "markdown",
   "metadata": {},
   "source": [
    "- 我们把这种代码叫做“样板代码（boilerplate code）”：尽管是必需的，但是又长又烦。Haskell 程序员不喜欢样板代码。幸运的是，语言的设计者提供了避免这个问题的方法：我们在定义一种数据类型的同时，就可以定义好每个成分的访问器。（逗号的位置是一个风格问题，如果你喜欢的话，也可以把它放在每行的最后。）："
   ]
  },
  {
   "cell_type": "markdown",
   "metadata": {},
   "source": [
    "```\n",
    "data Customer = Customer {\n",
    "      customerID      :: CustomerID\n",
    "    , customerName    :: String\n",
    "    , customerAddress :: Address\n",
    "    } deriving (Show)\n",
    "```\n",
    "    \n",
    "-- 上面👆的写法和下面👇的写法是几乎完全一致的(所以我很好奇作者为什么会说几乎完全一致？什么情况下不一致？)\n",
    "\n",
    "```\n",
    "data Customer = Customer Int String [String]\n",
    "                deriving (Show)\n",
    "\n",
    "customerID :: Customer -> Int\n",
    "customerID (Customer id _ _) = id\n",
    "\n",
    "customerName :: Customer -> String\n",
    "customerName (Customer _ name _) = name\n",
    "\n",
    "customerAddress :: Customer -> [String]\n",
    "customerAddress (Customer _ _ address) = address\n",
    "```\n",
    "\n",
    "- 记录语法还新增了一种更详细的标识法来新建一个值。这种标识法通常都会提升代码的可读性:"
   ]
  },
  {
   "cell_type": "code",
   "execution_count": null,
   "metadata": {},
   "outputs": [],
   "source": [
    "customer1 = Customer 271828 \"J.R. Hacker\"\n",
    "            [\"255 Syntax Ct\",\n",
    "             \"Milpitas, CA 95134\",\n",
    "             \"USA\"]\n",
    "customer2 = Customer {\n",
    "              customerID = 271828\n",
    "            , customerAddress = [\"1048576 Disk Drive\",\n",
    "                                 \"Milpitas, CA 95134\",\n",
    "                                 \"USA\"]\n",
    "            , customerName = \"Jane Q. Citizen\"\n",
    "            }"
   ]
  },
  {
   "cell_type": "markdown",
   "metadata": {},
   "source": [
    "- 如果使用这种形式，我们还可以调换字段列表的顺序。比如在上面的例子里，name 和 address 字段的顺序就被移动过，和定义类型时的顺序不一样了。\n",
    "\n",
    "- 当我们使用记录语法来定义类型时，还会影响到该类型的打印格式:"
   ]
  },
  {
   "cell_type": "code",
   "execution_count": null,
   "metadata": {},
   "outputs": [],
   "source": [
    "customer1\n",
    "customer2\n",
    "\n",
    "-- 我们没有使用记录型语法时的打印格式:\n",
    "cities = Book 173 \"Use of Weapons\" [\"Iain M. Banks\"]\n",
    "cities"
   ]
  },
  {
   "cell_type": "markdown",
   "metadata": {},
   "source": [
    "#  参数化类型\n",
    "- 列表的类型是多态的，即列表中的元素可以是一致的任何类型。\n",
    "- 我们也可以给自定义类型添加多态性:只要在类型定义中使用类型变量就可以做到这一点\n",
    "- 常用的Maybe类型就使用了类型变量:\n",
    "    ```\n",
    "        data Maybe a = Just a\n",
    "             | Nothing\n",
    "    ```\n",
    "- 这里的变量 a 不是普通的变量：它是一个类型变量。它意味着 `Maybe` 类型使用另一种类型作为它的参数。从而使得 Maybe 可以作用于任何类型的值:"
   ]
  },
  {
   "cell_type": "code",
   "execution_count": null,
   "metadata": {},
   "outputs": [],
   "source": [
    "someBool = Just True\n",
    "someString = Just \"something\"\n",
    "someString\n",
    "Just 1.5\n",
    "Nothing"
   ]
  },
  {
   "cell_type": "markdown",
   "metadata": {},
   "source": [
    "- Maybe 是一个多态，或者称作泛型的类型。我们向 Maybe 的类型构造器传入某种类型作为参数，例如 `Maybe Int` 或 `Maybe [Bool]`。 如我们所希望的那样，这些都是不同的类型（译注：可能省略了“但是都可以成功传入作为参数”）。\n",
    "\n",
    "- 我们可以嵌套使用参数化的类型，但要记得使用括号标识嵌套的顺序，以便 Haskell 编译器知道如何解析这样的表达式。"
   ]
  },
  {
   "cell_type": "markdown",
   "metadata": {},
   "source": [
    "# 递归类型"
   ]
  },
  {
   "cell_type": "markdown",
   "metadata": {},
   "source": [
    "## 列表\n",
    "- 列表这种常见的类型就是递归的：即它用自己来定义自己。为了深入了解其中的含义，让我们自己来设计一个与列表相仿的类型。我们将用 Cons 替换 (:) 构造器，用 Nil 替换 [] 构造器："
   ]
  },
  {
   "cell_type": "code",
   "execution_count": null,
   "metadata": {},
   "outputs": [],
   "source": [
    "data List a = Cons a (List a)\n",
    "            | Nil\n",
    "            deriving (Show)"
   ]
  },
  {
   "cell_type": "markdown",
   "metadata": {},
   "source": [
    "- `List a`在=符号的左右两侧都有出现，我们可以说该类型的定义引用了它自己。当我们使用Cons构造器的时候，我们必须提供一个a的值作为参数一，以及一个`List a`类型的值作为参数二\n",
    "- 由于 Nil 是一个 List a 类型（译注：原文是 List 类型，可能是漏写了 a），因此我们可以将它作为 Cons 的第二个参数。"
   ]
  },
  {
   "cell_type": "code",
   "execution_count": null,
   "metadata": {},
   "outputs": [],
   "source": [
    "Nil\n",
    "Cons 0 Nil\n",
    "-- 这里it是ghci上一次执行结果\n",
    "Cons 1 it\n",
    "Cons 2 it\n",
    "Cons 3 it"
   ]
  },
  {
   "cell_type": "markdown",
   "metadata": {},
   "source": [
    "### Tip\n",
    "- List可以被当作haskel里的list吗？\n",
    "- 简单地证明一下List a类型和内置的list类型[a]拥有相同的构型。让我们设计一个函数能够接受任何一个[a]类型的值作为输入参数，并返回List a类型的一个值:"
   ]
  },
  {
   "cell_type": "code",
   "execution_count": null,
   "metadata": {},
   "outputs": [],
   "source": [
    "fromList (x:xs) = Cons x (fromList xs)\n",
    "fromList [] = Nil\n",
    "fromList \"durian\"\n",
    "fromList [Just True, Nothing, Just False]"
   ]
  },
  {
   "cell_type": "markdown",
   "metadata": {},
   "source": [
    "- 上述代码可以将每个(:)替换成Cons(这也说明(:)实际上就是一种函数的语法糖),将每个[]替换成Nil。这样就涵盖了内置list类型的全部构造器。因此我们可以说二者是同构的，它们有着相同的构型"
   ]
  },
  {
   "cell_type": "markdown",
   "metadata": {},
   "source": [
    "## 二叉树\n",
    "- 为了更清楚说明什么是递归类型，继续说另一个例子--定义一个二叉树类型"
   ]
  },
  {
   "cell_type": "code",
   "execution_count": null,
   "metadata": {},
   "outputs": [],
   "source": [
    "data Tree a = Node a (Tree a) (Tree a) \n",
    "            | Empty\n",
    "            deriving (Show)"
   ]
  },
  {
   "cell_type": "markdown",
   "metadata": {},
   "source": [
    "- 而如果要在Java中实现类似的定义:\n",
    "```\n",
    "class Tree<A> {\n",
    "    A value;\n",
    "    Tree<A> left;\n",
    "    Tree<A> right;\n",
    "    \n",
    "    public Tree(A v, Tree<A> l, Tree<A> r) {\n",
    "        this.value = v;\n",
    "        this.left = l;\n",
    "        this.right = r;\n",
    "    }\n",
    "}\n",
    "``` \n",
    "- 上面是定义的不同，下面对比构造的不同:\n",
    "    - java:\n",
    "    ```\n",
    "      new Tree<String>(\n",
    "            \"parent\",\n",
    "        new Tree<String>(\"left leaf\", null, null),\n",
    "        new Tree<String>(\"right leaf\", null, null));\n",
    "    }\n",
    "    ```\n",
    "    - Haskell:"
   ]
  },
  {
   "cell_type": "code",
   "execution_count": null,
   "metadata": {},
   "outputs": [],
   "source": [
    "simpleTree = Node \"parent\" \n",
    "                (Node \"left leaf\" Empty Empty)\n",
    "                (Node \"right leaf\" Empty Empty)"
   ]
  },
  {
   "cell_type": "markdown",
   "metadata": {},
   "source": [
    "### 练习\n",
    "1. 请给 List 类型写一个与 fromList 作用相反的函数：传入一个 List a 类型的值，返回一个 [a]:"
   ]
  },
  {
   "cell_type": "code",
   "execution_count": null,
   "metadata": {},
   "outputs": [],
   "source": [
    "toList Cons a (List a) = a:(toList List a)\n",
    "toList Nil = []\n",
    "let myList = fromList [1,2,3]\n",
    "let list = toList myList\n",
    "myList\n",
    "list"
   ]
  },
  {
   "cell_type": "code",
   "execution_count": null,
   "metadata": {},
   "outputs": [],
   "source": []
  }
 ],
 "metadata": {
  "kernelspec": {
   "display_name": "Haskell",
   "language": "haskell",
   "name": "haskell"
  },
  "language_info": {
   "codemirror_mode": "ihaskell",
   "file_extension": ".hs",
   "name": "haskell",
   "pygments_lexer": "Haskell",
   "version": "8.6.5"
  },
  "toc-autonumbering": true,
  "toc-showcode": false,
  "toc-showmarkdowntxt": false,
  "toc-showtags": false
 },
 "nbformat": 4,
 "nbformat_minor": 4
}
